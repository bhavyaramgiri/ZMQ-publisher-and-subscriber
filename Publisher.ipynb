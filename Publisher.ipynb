{
 "cells": [
  {
   "cell_type": "code",
   "execution_count": 1,
   "metadata": {},
   "outputs": [],
   "source": [
    "import zmq\n",
    "import hashlib # Library of checksum algorithms\n",
    "import datetime # Library of date and times\n",
    "import numpy as np\n",
    "import time # Time since epoch\n",
    "from random import *\n",
    "from   IPython.display import clear_output# to clear display of the cell that keeps on receiving msg"
   ]
  },
  {
   "cell_type": "markdown",
   "metadata": {},
   "source": [
    "##### Initialize the context and create a socket.\n",
    "https://pyzmq.readthedocs.io/en/latest/api/zmq.html "
   ]
  },
  {
   "cell_type": "code",
   "execution_count": 4,
   "metadata": {},
   "outputs": [],
   "source": [
    "context = zmq.Context()# context of zmq is started\n",
    "outgoing_socket = context.socket(zmq.PUB)# Server side the socket will be of publishers \n",
    "outgoing_socket.bind(\"tcp://127.0.0.1:8886\") # Bind used for server side"
   ]
  },
  {
   "cell_type": "markdown",
   "metadata": {},
   "source": [
    "##### Sending data over ZMQ\n",
    "https://docs.python.org/2/library/hashlib.html hashlib/update/hexdigest"
   ]
  },
  {
   "cell_type": "code",
   "execution_count": 2,
   "metadata": {},
   "outputs": [],
   "source": [
    "def send_data(dataset,socket): #function send_data() is created.\n",
    "    chksm1=hashlib.sha256()# hashlib library is called to use sha256 checksum algorithm\n",
    "    chksm1.update(dataset.tobytes())# data is converted to bytes\n",
    "    hash_value=chksm1.hexdigest()#for safety purpose during the exchange of messages,data is \n",
    "#+converted to hexadecimal digits ,now i have data which is in hexadecimal\n",
    "    socket.send_multipart([dataset.tobytes(),hash_value.encode('utf-8')])\n",
    "#send_multipart() to send actual data and checksum"
   ]
  },
  {
   "cell_type": "markdown",
   "metadata": {},
   "source": [
    "##### Main generate data and send loop"
   ]
  },
  {
   "cell_type": "code",
   "execution_count": 5,
   "metadata": {},
   "outputs": [
    {
     "name": "stdout",
     "output_type": "stream",
     "text": [
      "[2018-12-14 20:12:37.182725]\n"
     ]
    },
    {
     "ename": "KeyboardInterrupt",
     "evalue": "",
     "output_type": "error",
     "traceback": [
      "\u001b[0;31m---------------------------------------------------------------------------\u001b[0m",
      "\u001b[0;31mKeyboardInterrupt\u001b[0m                         Traceback (most recent call last)",
      "\u001b[0;32m<ipython-input-5-5008e49114c2>\u001b[0m in \u001b[0;36m<module>\u001b[0;34m()\u001b[0m\n\u001b[1;32m      5\u001b[0m     \u001b[0mclear_output\u001b[0m\u001b[0;34m(\u001b[0m\u001b[0;34m)\u001b[0m \u001b[0;31m# so that the cell below clears out before new data is generated\u001b[0m\u001b[0;34m\u001b[0m\u001b[0m\n\u001b[1;32m      6\u001b[0m     \u001b[0mprint\u001b[0m\u001b[0;34m(\u001b[0m\u001b[0;34m\"[%s]\"\u001b[0m \u001b[0;34m%\u001b[0m \u001b[0mdatetime\u001b[0m\u001b[0;34m.\u001b[0m\u001b[0mdatetime\u001b[0m\u001b[0;34m.\u001b[0m\u001b[0mnow\u001b[0m\u001b[0;34m(\u001b[0m\u001b[0;34m)\u001b[0m\u001b[0;34m)\u001b[0m \u001b[0;31m#time stamp for every data received\u001b[0m\u001b[0;34m\u001b[0m\u001b[0m\n\u001b[0;32m----> 7\u001b[0;31m     \u001b[0mtime\u001b[0m\u001b[0;34m.\u001b[0m\u001b[0msleep\u001b[0m\u001b[0;34m(\u001b[0m\u001b[0mtransmission_interval\u001b[0m\u001b[0;34m)\u001b[0m\u001b[0;34m\u001b[0m\u001b[0m\n\u001b[0m",
      "\u001b[0;31mKeyboardInterrupt\u001b[0m: "
     ]
    }
   ],
   "source": [
    "transmission_interval = 5 # in seconds\n",
    "while True:\n",
    "    dataset = np.random.randint(low=1, high=100, size=1) # have to use numpy to save in bytes in the buffer\n",
    "    send_data(dataset, outgoing_socket)\n",
    "    clear_output() # so that the cell below clears out before new data is generated\n",
    "    print(\"[%s]\" % datetime.datetime.now()) #time stamp for every data received\n",
    "    time.sleep(transmission_interval)"
   ]
  },
  {
   "cell_type": "code",
   "execution_count": null,
   "metadata": {},
   "outputs": [],
   "source": []
  },
  {
   "cell_type": "code",
   "execution_count": null,
   "metadata": {},
   "outputs": [],
   "source": []
  }
 ],
 "metadata": {
  "kernelspec": {
   "display_name": "Python 3",
   "language": "python",
   "name": "python3"
  },
  "language_info": {
   "codemirror_mode": {
    "name": "ipython",
    "version": 3
   },
   "file_extension": ".py",
   "mimetype": "text/x-python",
   "name": "python",
   "nbconvert_exporter": "python",
   "pygments_lexer": "ipython3",
   "version": "3.6.5"
  }
 },
 "nbformat": 4,
 "nbformat_minor": 2
}
